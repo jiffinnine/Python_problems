{
 "cells": [
  {
   "cell_type": "code",
   "execution_count": 1,
   "id": "0370e506-89d2-44a6-b356-426f4492a306",
   "metadata": {},
   "outputs": [
    {
     "data": {
      "text/plain": [
       "[1, 3, 9, 12, 13, 18, 26, 27, 28, 29]"
      ]
     },
     "execution_count": 1,
     "metadata": {},
     "output_type": "execute_result"
    }
   ],
   "source": [
    "booked = [1,3,9,12,13,18,26,27,28,29]\n",
    "booked"
   ]
  },
  {
   "cell_type": "code",
   "execution_count": 2,
   "id": "3b1c8300-c881-4fd8-86f8-b879517cf728",
   "metadata": {},
   "outputs": [
    {
     "data": {
      "text/plain": [
       "[4, 5, 15, 16, 21, 22]"
      ]
     },
     "execution_count": 2,
     "metadata": {},
     "output_type": "execute_result"
    }
   ],
   "source": [
    "travel = [4,5,15,16,21,22]\n",
    "travel"
   ]
  },
  {
   "cell_type": "code",
   "execution_count": 21,
   "id": "1f2f3caa-f6be-4bfa-8d88-f6dd18362bb3",
   "metadata": {},
   "outputs": [],
   "source": [
    "def free(a,b):\n",
    "    c = a + b\n",
    "    all_days = list(range(1,32))\n",
    "    free_days = list()\n",
    "    for date in all_days:\n",
    "        if date not in c:\n",
    "            free_days.append(date)\n",
    "    print(free_days)"
   ]
  },
  {
   "cell_type": "code",
   "execution_count": 22,
   "id": "ea43e885-853a-46d5-8859-3397803ae962",
   "metadata": {},
   "outputs": [
    {
     "name": "stdout",
     "output_type": "stream",
     "text": [
      "[2, 6, 7, 8, 10, 11, 14, 17, 19, 20, 23, 24, 25, 30, 31]\n"
     ]
    }
   ],
   "source": [
    "free(booked,travel)"
   ]
  }
 ],
 "metadata": {
  "kernelspec": {
   "display_name": "Python 3 (ipykernel)",
   "language": "python",
   "name": "python3"
  },
  "language_info": {
   "codemirror_mode": {
    "name": "ipython",
    "version": 3
   },
   "file_extension": ".py",
   "mimetype": "text/x-python",
   "name": "python",
   "nbconvert_exporter": "python",
   "pygments_lexer": "ipython3",
   "version": "3.10.12"
  }
 },
 "nbformat": 4,
 "nbformat_minor": 5
}
