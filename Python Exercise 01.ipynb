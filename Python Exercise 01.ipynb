{
 "cells": [
  {
   "cell_type": "code",
   "execution_count": 7,
   "id": "50fd4570-9697-42b6-ae73-47fe3d8a29b4",
   "metadata": {},
   "outputs": [],
   "source": [
    "import csv\n",
    "import math"
   ]
  },
  {
   "cell_type": "code",
   "execution_count": 10,
   "id": "f75f2d31-59db-4209-9a2d-c71df45b0d30",
   "metadata": {},
   "outputs": [
    {
     "data": {
      "text/plain": [
       "['Date', 'Region', 'Product', 'Amount', 'Customer ID']"
      ]
     },
     "execution_count": 10,
     "metadata": {},
     "output_type": "execute_result"
    }
   ],
   "source": [
    "with open(\"sales_24.csv\", mode=\"r\", newline=\"\", encoding=\"utf-8\") as fh:\n",
    "    reader = csv.reader(fh)\n",
    "    all_rows = list(reader)\n",
    "\n",
    "header = all_rows[0]\n",
    "header\n"
   ]
  },
  {
   "cell_type": "code",
   "execution_count": 11,
   "id": "b81c2fd6-fd0a-4490-8798-64ddb0ff00ca",
   "metadata": {},
   "outputs": [],
   "source": [
    "amount_index = header.index(\"Amount\")\n",
    "updated_rows = [header]\n",
    "\n",
    "for row in all_rows[1:]:\n",
    "    amount = row[amount_index].strip()\n",
    "\n",
    "    if amount:\n",
    "        try:\n",
    "            row[amount_index] = str(math.floor(float(amount)))\n",
    "        except ValueError:\n",
    "            pass \n",
    "\n",
    "    updated_rows.append(row)\n"
   ]
  },
  {
   "cell_type": "code",
   "execution_count": 13,
   "id": "acbe0442-25d3-44fd-95e6-3dcde092b583",
   "metadata": {},
   "outputs": [],
   "source": [
    "with open(\"sales_updated.csv\", mode=\"w\") as outfile:\n",
    "    writer = csv.writer(outfile)\n",
    "    writer.writerows(updated_rows)\n"
   ]
  }
 ],
 "metadata": {
  "kernelspec": {
   "display_name": "Python 3 (ipykernel)",
   "language": "python",
   "name": "python3"
  },
  "language_info": {
   "codemirror_mode": {
    "name": "ipython",
    "version": 3
   },
   "file_extension": ".py",
   "mimetype": "text/x-python",
   "name": "python",
   "nbconvert_exporter": "python",
   "pygments_lexer": "ipython3",
   "version": "3.10.12"
  }
 },
 "nbformat": 4,
 "nbformat_minor": 5
}
