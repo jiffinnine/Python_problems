{
 "cells": [
  {
   "cell_type": "code",
   "execution_count": 4,
   "id": "9d0d0083-7855-4954-b9ac-51dc28bea3cd",
   "metadata": {},
   "outputs": [],
   "source": [
    "import pandas as pd\n",
    "import sqlite3 as ss\n",
    "import matplotlib.pyplot as plt\n",
    "import seaborn as sns"
   ]
  },
  {
   "cell_type": "markdown",
   "id": "47ae7d13-faaa-4d8b-9319-d9b78274ada7",
   "metadata": {},
   "source": [
    "# Cleaning for bollywood_movies.sqlite"
   ]
  },
  {
   "cell_type": "code",
   "execution_count": 5,
   "id": "e210dbab-0eb9-46ad-b7f9-6b2bb4d2be7c",
   "metadata": {},
   "outputs": [],
   "source": [
    "con = ss.connect(\"movies_data/bollywood_movies.sqlite\")\n",
    "df = pd.read_sql_query(\"SELECT * from Movies \", con)"
   ]
  },
  {
   "cell_type": "markdown",
   "id": "e5390b0f-294f-4f76-84c3-3e21f53a544e",
   "metadata": {},
   "source": [
    "### Chekcing info to see for null values and data types\n",
    "\n",
    "- Null values occuring in Genre(1) , Budget(Crores)(12), Box-Office(Crores)(9)\n",
    "- Data types seems to be accurate\n",
    "- Also memory also seems to be reasonable"
   ]
  },
  {
   "cell_type": "code",
   "execution_count": 6,
   "id": "394c7946-b3c8-47c2-b0b9-a76961a95a76",
   "metadata": {},
   "outputs": [],
   "source": [
    "# Dropping the index column because we already have indexes and its just a watse of space\n",
    "df = df.drop('index', axis =1)"
   ]
  },
  {
   "cell_type": "code",
   "execution_count": 7,
   "id": "9105de25-329f-4537-aace-5eb18f45fc4c",
   "metadata": {},
   "outputs": [
    {
     "name": "stdout",
     "output_type": "stream",
     "text": [
      "<class 'pandas.core.frame.DataFrame'>\n",
      "RangeIndex: 55 entries, 0 to 54\n",
      "Data columns (total 13 columns):\n",
      " #   Column              Non-Null Count  Dtype  \n",
      "---  ------              --------------  -----  \n",
      " 0   MovieID             55 non-null     object \n",
      " 1   Title               55 non-null     object \n",
      " 2   Director            55 non-null     object \n",
      " 3   Genre               54 non-null     object \n",
      " 4   ReleaseYear         55 non-null     int64  \n",
      " 5   Budget (Crores)     43 non-null     float64\n",
      " 6   BoxOffice (Crores)  46 non-null     float64\n",
      " 7   Rating              55 non-null     float64\n",
      " 8   Duration (minutes)  55 non-null     int64  \n",
      " 9   LeadActor           55 non-null     object \n",
      " 10  LeadActress         55 non-null     object \n",
      " 11  Language            55 non-null     object \n",
      " 12  ProductionCompany   55 non-null     object \n",
      "dtypes: float64(3), int64(2), object(8)\n",
      "memory usage: 5.7+ KB\n"
     ]
    }
   ],
   "source": [
    "df.info()"
   ]
  },
  {
   "cell_type": "code",
   "execution_count": 8,
   "id": "f6221fec-87af-479e-b82b-30bc26801d8e",
   "metadata": {},
   "outputs": [],
   "source": [
    "df['Genre'] = df['Genre'].fillna('Genre Unknown') "
   ]
  },
  {
   "cell_type": "code",
   "execution_count": 9,
   "id": "8385f6d1-2b7c-4a12-a917-b56c7ec7f8ef",
   "metadata": {},
   "outputs": [
    {
     "data": {
      "text/plain": [
       "<Axes: ylabel='Density'>"
      ]
     },
     "execution_count": 9,
     "metadata": {},
     "output_type": "execute_result"
    },
    {
     "data": {
      "image/png": "[encoded data removed]",
      "text/plain": [
       "<Figure size 640x480 with 1 Axes>"
      ]
     },
     "metadata": {},
     "output_type": "display_data"
    }
   ],
   "source": [
    "# Using kde plotting to better understand data and determine how to fill the null values\n",
    "df['Budget (Crores)'].plot.kde()"
   ]
  },
  {
   "cell_type": "code",
   "execution_count": 10,
   "id": "b54c92d6-ab1c-47bd-948b-c573ee81fc5f",
   "metadata": {},
   "outputs": [
    {
     "data": {
      "text/plain": [
       "np.float64(50.0)"
      ]
     },
     "execution_count": 10,
     "metadata": {},
     "output_type": "execute_result"
    }
   ],
   "source": [
    "df['Budget (Crores)'].median()"
   ]
  },
  {
   "cell_type": "code",
   "execution_count": 11,
   "id": "86738748-a2ab-4964-a7ab-654aade3b482",
   "metadata": {},
   "outputs": [],
   "source": [
    "# Considering median to be a better value to be filled\n",
    "df['Budget (Crores)'] = df['Budget (Crores)'].fillna(df['Budget (Crores)'].median())"
   ]
  },
  {
   "cell_type": "code",
   "execution_count": 12,
   "id": "b98c5072-8f28-4440-99a7-bada17f65880",
   "metadata": {},
   "outputs": [
    {
     "data": {
      "text/plain": [
       "np.float64(250.0)"
      ]
     },
     "execution_count": 12,
     "metadata": {},
     "output_type": "execute_result"
    }
   ],
   "source": [
    "df['BoxOffice (Crores)'].median()"
   ]
  },
  {
   "cell_type": "code",
   "execution_count": 13,
   "id": "156e4a3a-4fa9-4cb9-a723-f444ffe4de11",
   "metadata": {},
   "outputs": [],
   "source": [
    "# Considering median to be a better value to be filled\n",
    "df['BoxOffice (Crores)'] = df['BoxOffice (Crores)'].fillna(df['BoxOffice (Crores)'].median())"
   ]
  },
  {
   "cell_type": "code",
   "execution_count": 14,
   "id": "0449d0ce-3687-47e3-b73e-5656b9492cb9",
   "metadata": {},
   "outputs": [],
   "source": [
    "# To remove duplicates\n",
    "df = df.drop_duplicates(subset=['Title', 'ReleaseYear', 'Director'])"
   ]
  },
  {
   "cell_type": "code",
   "execution_count": 15,
   "id": "54bad2b8-cebc-4558-b7d9-d5c298ce2d17",
   "metadata": {},
   "outputs": [],
   "source": [
    "# downloading cleaned file\n",
    "df.to_csv(\"cleaned_bollywood_movies.csv\", index=False)"
   ]
  },
  {
   "cell_type": "markdown",
   "id": "bef67205-63f6-45ab-af50-3b844956d7bf",
   "metadata": {},
   "source": [
    "# Cleaning for indian_movies.csv"
   ]
  },
  {
   "cell_type": "code",
   "execution_count": 16,
   "id": "50b41dd2-848c-4c2f-a6ca-f60c3c68d8e8",
   "metadata": {},
   "outputs": [],
   "source": [
    "df2 = pd.read_csv('movies_data/indian_movies.csv')"
   ]
  },
  {
   "cell_type": "markdown",
   "id": "ff97836c-f23e-4b73-bef4-7bd933963265",
   "metadata": {},
   "source": [
    "### Chekcing info to see for null values and data types\n",
    "\n",
    "- Null values occuring in releaseyear(1) , Budget(Crores)(8), Box-Office(Crores)(8), Rating(1), Duration (minutes)(1)\n",
    "- Data types seems to be inaccurate in some cases\n",
    "- Also memory also seems to be reasonable"
   ]
  },
  {
   "cell_type": "code",
   "execution_count": 17,
   "id": "443e15e3-9ec9-4b7b-90b5-0db0ffd0a635",
   "metadata": {},
   "outputs": [],
   "source": [
    "# dropping unnamed column because the indexes are wrong and also we already have indexes\n",
    "df2 = df2.drop('Unnamed: 0', axis =1)"
   ]
  },
  {
   "cell_type": "code",
   "execution_count": 18,
   "id": "5d8c0d92-a6b5-48e5-9f8a-b721d5316b62",
   "metadata": {},
   "outputs": [
    {
     "name": "stdout",
     "output_type": "stream",
     "text": [
      "<class 'pandas.core.frame.DataFrame'>\n",
      "RangeIndex: 18 entries, 0 to 17\n",
      "Data columns (total 13 columns):\n",
      " #   Column              Non-Null Count  Dtype  \n",
      "---  ------              --------------  -----  \n",
      " 0   MovieID             18 non-null     object \n",
      " 1   Title               18 non-null     object \n",
      " 2   Director            18 non-null     object \n",
      " 3   Genre               18 non-null     object \n",
      " 4   ReleaseYear         17 non-null     float64\n",
      " 5   Budget (Crores)     10 non-null     float64\n",
      " 6   BoxOffice (Crores)  10 non-null     float64\n",
      " 7   Rating              17 non-null     float64\n",
      " 8   Duration (minutes)  17 non-null     float64\n",
      " 9   LeadActor           18 non-null     object \n",
      " 10  LeadActress         18 non-null     object \n",
      " 11  Language            18 non-null     object \n",
      " 12  ProductionCompany   18 non-null     object \n",
      "dtypes: float64(5), object(8)\n",
      "memory usage: 2.0+ KB\n"
     ]
    }
   ],
   "source": [
    "df2.info()"
   ]
  },
  {
   "cell_type": "code",
   "execution_count": 19,
   "id": "da5295f8-2bb0-48e6-a619-56d8321121ee",
   "metadata": {},
   "outputs": [
    {
     "data": {
      "text/html": [
       "<div>\n",
       "<style scoped>\n",
       "    .dataframe tbody tr th:only-of-type {\n",
       "        vertical-align: middle;\n",
       "    }\n",
       "\n",
       "    .dataframe tbody tr th {\n",
       "        vertical-align: top;\n",
       "    }\n",
       "\n",
       "    .dataframe thead th {\n",
       "        text-align: right;\n",
       "    }\n",
       "</style>\n",
       "<table border=\"1\" class=\"dataframe\">\n",
       "  <thead>\n",
       "    <tr style=\"text-align: right;\">\n",
       "      <th></th>\n",
       "      <th>MovieID</th>\n",
       "      <th>Title</th>\n",
       "      <th>Director</th>\n",
       "      <th>Genre</th>\n",
       "      <th>ReleaseYear</th>\n",
       "      <th>Budget (Crores)</th>\n",
       "      <th>BoxOffice (Crores)</th>\n",
       "      <th>Rating</th>\n",
       "      <th>Duration (minutes)</th>\n",
       "      <th>LeadActor</th>\n",
       "      <th>LeadActress</th>\n",
       "      <th>Language</th>\n",
       "      <th>ProductionCompany</th>\n",
       "    </tr>\n",
       "  </thead>\n",
       "  <tbody>\n",
       "    <tr>\n",
       "      <th>17</th>\n",
       "      <td>MOV049</td>\n",
       "      <td>U Turn</td>\n",
       "      <td>Pawan Kumar</td>\n",
       "      <td>Thriller</td>\n",
       "      <td>NaN</td>\n",
       "      <td>5.0</td>\n",
       "      <td>20.0</td>\n",
       "      <td>7.9</td>\n",
       "      <td>128.0</td>\n",
       "      <td>Shraddha Srinath</td>\n",
       "      <td>Dilip Raj</td>\n",
       "      <td>Kannada</td>\n",
       "      <td>PRK Productions</td>\n",
       "    </tr>\n",
       "  </tbody>\n",
       "</table>\n",
       "</div>"
      ],
      "text/plain": [
       "   MovieID   Title     Director     Genre  ReleaseYear  Budget (Crores)  \\\n",
       "17  MOV049  U Turn  Pawan Kumar  Thriller          NaN              5.0   \n",
       "\n",
       "    BoxOffice (Crores)  Rating  Duration (minutes)         LeadActor  \\\n",
       "17                20.0     7.9               128.0  Shraddha Srinath   \n",
       "\n",
       "   LeadActress Language ProductionCompany  \n",
       "17   Dilip Raj  Kannada   PRK Productions  "
      ]
     },
     "execution_count": 19,
     "metadata": {},
     "output_type": "execute_result"
    }
   ],
   "source": [
    "df2[df2['ReleaseYear'].isna()]"
   ]
  },
  {
   "cell_type": "markdown",
   "id": "1cfacd56-7409-49a5-8983-04687ce1573d",
   "metadata": {},
   "source": [
    "#### since from the data we can assume that mostly same years are continuing \n",
    "#### I am going to copy the row from above and paste for the missing value"
   ]
  },
  {
   "cell_type": "code",
   "execution_count": 20,
   "id": "5d1842dd-86e0-43c2-850a-c1e2e791c7fb",
   "metadata": {},
   "outputs": [
    {
     "name": "stderr",
     "output_type": "stream",
     "text": [
      "/tmp/ipykernel_8302/1195842932.py:1: FutureWarning: Series.fillna with 'method' is deprecated and will raise in a future version. Use obj.ffill() or obj.bfill() instead.\n",
      "  df2['ReleaseYear'] = df2['ReleaseYear'].fillna(method='ffill')\n"
     ]
    }
   ],
   "source": [
    "df2['ReleaseYear'] = df2['ReleaseYear'].fillna(method='ffill')"
   ]
  },
  {
   "cell_type": "code",
   "execution_count": 21,
   "id": "ed990f57-705b-47f2-b252-492c7e320fc3",
   "metadata": {},
   "outputs": [],
   "source": [
    "# Considering median to be a better value to be filled\n",
    "df2['Budget (Crores)'] = df2['Budget (Crores)'].fillna(df2['Budget (Crores)'].median())"
   ]
  },
  {
   "cell_type": "code",
   "execution_count": 22,
   "id": "5a12e5c8-7ae8-4be9-b893-70178cc28970",
   "metadata": {},
   "outputs": [],
   "source": [
    "# Considering median to be a better value to be filled\n",
    "df2['BoxOffice (Crores)'] = df2['BoxOffice (Crores)'].fillna(df2['BoxOffice (Crores)'].median())"
   ]
  },
  {
   "cell_type": "code",
   "execution_count": 23,
   "id": "761d4bf9-a668-4860-bef6-5770bf9fa1c9",
   "metadata": {},
   "outputs": [],
   "source": [
    "# Considering mean for filling null values of Rating\n",
    "df2['Rating'] = df2['Rating'].fillna(df2['Rating'].mean())"
   ]
  },
  {
   "cell_type": "code",
   "execution_count": 24,
   "id": "98897400-d9cd-4187-be3c-528d92598da8",
   "metadata": {},
   "outputs": [
    {
     "data": {
      "text/plain": [
       "0     173.0\n",
       "1     147.0\n",
       "2     156.0\n",
       "3     181.0\n",
       "4       NaN\n",
       "5     164.0\n",
       "6     145.0\n",
       "7     170.0\n",
       "8     118.0\n",
       "9     158.0\n",
       "10    159.0\n",
       "11    164.0\n",
       "12    141.0\n",
       "13    129.0\n",
       "14    162.0\n",
       "15    156.0\n",
       "16    144.0\n",
       "17    128.0\n",
       "Name: Duration (minutes), dtype: float64"
      ]
     },
     "execution_count": 24,
     "metadata": {},
     "output_type": "execute_result"
    }
   ],
   "source": [
    "df2['Duration (minutes)']"
   ]
  },
  {
   "cell_type": "code",
   "execution_count": 25,
   "id": "d91c2cba-9adf-42c4-a0d9-d3b66b245388",
   "metadata": {},
   "outputs": [],
   "source": [
    "df2['Duration (minutes)'] = df2['Duration (minutes)'].fillna(df2['Duration (minutes)'].mean())"
   ]
  },
  {
   "cell_type": "code",
   "execution_count": 26,
   "id": "b6ca75e9-247e-41c8-b177-58d1b2b3758f",
   "metadata": {},
   "outputs": [],
   "source": [
    "# I also have to convert ReleaseYear and Duration type to int\n",
    "cols = ['ReleaseYear', 'Duration (minutes)']\n",
    "df2[cols] = df2[cols].astype(int)"
   ]
  },
  {
   "cell_type": "code",
   "execution_count": 27,
   "id": "6d079a4b-3890-4081-ab33-433899f2ed1d",
   "metadata": {},
   "outputs": [],
   "source": [
    "# To remove duplicates\n",
    "df2 = df2.drop_duplicates(subset=['Title', 'ReleaseYear', 'Director'])"
   ]
  },
  {
   "cell_type": "code",
   "execution_count": 28,
   "id": "85b0860a-162f-4a49-bf51-a2e60323be3b",
   "metadata": {},
   "outputs": [],
   "source": [
    "# downloading cleaned file\n",
    "df2.to_csv(\"cleaned_indian_movies.csv\", index=False)"
   ]
  },
  {
   "cell_type": "markdown",
   "id": "7de5a1cf-bdc6-472d-86ab-40520e57570c",
   "metadata": {},
   "source": [
    "# Cleaning for tollywood_movies.xlsx"
   ]
  },
  {
   "cell_type": "markdown",
   "id": "2be76c1d-216e-49e8-8ad1-d83f3c09a974",
   "metadata": {},
   "source": [
    "### Chekcing info to see for null values and data types\n",
    "\n",
    "- Null values occuring in releaseyear(2), Rating(1), Duration (minutes)(1), Language(3), Production)Company(1)\n",
    "- Data types seems to be inaccurate in some cases\n",
    "- Also memory also seems to be reasonable"
   ]
  },
  {
   "cell_type": "code",
   "execution_count": 29,
   "id": "0c25c3b6-d168-47b4-9cd5-7378bfdcf74d",
   "metadata": {},
   "outputs": [],
   "source": [
    "df3 = pd.read_excel('movies_data/tollywood_movies.xlsx')"
   ]
  },
  {
   "cell_type": "code",
   "execution_count": 30,
   "id": "a110190f-2ee1-462b-a19f-e6d15de864e0",
   "metadata": {},
   "outputs": [],
   "source": [
    "# dropping unnamed column because the indexes are wrong and also we already have indexes\n",
    "df3 = df3.drop('Unnamed: 0', axis =1)"
   ]
  },
  {
   "cell_type": "code",
   "execution_count": 31,
   "id": "87f9f14e-3ed5-4545-8c83-8cf919a206fd",
   "metadata": {},
   "outputs": [
    {
     "name": "stdout",
     "output_type": "stream",
     "text": [
      "<class 'pandas.core.frame.DataFrame'>\n",
      "RangeIndex: 10 entries, 0 to 9\n",
      "Data columns (total 13 columns):\n",
      " #   Column              Non-Null Count  Dtype  \n",
      "---  ------              --------------  -----  \n",
      " 0   MovieID             10 non-null     object \n",
      " 1   Title               10 non-null     object \n",
      " 2   Director            10 non-null     object \n",
      " 3   Genre               10 non-null     object \n",
      " 4   ReleaseYear         8 non-null      float64\n",
      " 5   Budget (Crores)     10 non-null     int64  \n",
      " 6   BoxOffice (Crores)  10 non-null     int64  \n",
      " 7   Rating              9 non-null      float64\n",
      " 8   Duration (minutes)  9 non-null      float64\n",
      " 9   LeadActor           10 non-null     object \n",
      " 10  LeadActress         10 non-null     object \n",
      " 11  Language            7 non-null      object \n",
      " 12  ProductionCompany   9 non-null      object \n",
      "dtypes: float64(3), int64(2), object(8)\n",
      "memory usage: 1.1+ KB\n"
     ]
    }
   ],
   "source": [
    "df3.info()"
   ]
  },
  {
   "cell_type": "code",
   "execution_count": 32,
   "id": "fa908c66-d141-4444-83ad-1b305729e378",
   "metadata": {},
   "outputs": [
    {
     "data": {
      "text/plain": [
       "array(['Telugu', nan], dtype=object)"
      ]
     },
     "execution_count": 32,
     "metadata": {},
     "output_type": "execute_result"
    }
   ],
   "source": [
    "df3['Language'].unique()"
   ]
  },
  {
   "cell_type": "markdown",
   "id": "43521312-851c-4147-9d28-24cb906c600d",
   "metadata": {},
   "source": [
    "#### Since all values in language column will be same that is telugu we can just delete that column(Don't need to fill null values)\n",
    "- This can help with decreasing memory"
   ]
  },
  {
   "cell_type": "code",
   "execution_count": 33,
   "id": "8609678d-2184-463c-9f86-662de1b42b3a",
   "metadata": {},
   "outputs": [],
   "source": [
    "# axis = 1 shows that i am deleting a column\n",
    "df3 = df3.drop('Language' , axis =1)"
   ]
  },
  {
   "cell_type": "code",
   "execution_count": 34,
   "id": "8d00dcd0-49a8-47f1-a4a7-7f22cba32f3f",
   "metadata": {},
   "outputs": [
    {
     "data": {
      "text/plain": [
       "0       NaN\n",
       "1    2015.0\n",
       "2    2019.0\n",
       "3    2019.0\n",
       "4    2018.0\n",
       "5    2019.0\n",
       "6       NaN\n",
       "7    2020.0\n",
       "8    2015.0\n",
       "9    2017.0\n",
       "Name: ReleaseYear, dtype: float64"
      ]
     },
     "execution_count": 34,
     "metadata": {},
     "output_type": "execute_result"
    }
   ],
   "source": [
    "df3['ReleaseYear']"
   ]
  },
  {
   "cell_type": "code",
   "execution_count": 35,
   "id": "6349dbe4-f106-4224-842b-0f13d74a2443",
   "metadata": {},
   "outputs": [
    {
     "data": {
      "text/html": [
       "<div>\n",
       "<style scoped>\n",
       "    .dataframe tbody tr th:only-of-type {\n",
       "        vertical-align: middle;\n",
       "    }\n",
       "\n",
       "    .dataframe tbody tr th {\n",
       "        vertical-align: top;\n",
       "    }\n",
       "\n",
       "    .dataframe thead th {\n",
       "        text-align: right;\n",
       "    }\n",
       "</style>\n",
       "<table border=\"1\" class=\"dataframe\">\n",
       "  <thead>\n",
       "    <tr style=\"text-align: right;\">\n",
       "      <th></th>\n",
       "      <th>MovieID</th>\n",
       "      <th>Title</th>\n",
       "      <th>Director</th>\n",
       "      <th>Genre</th>\n",
       "      <th>ReleaseYear</th>\n",
       "      <th>Budget (Crores)</th>\n",
       "      <th>BoxOffice (Crores)</th>\n",
       "      <th>Rating</th>\n",
       "      <th>Duration (minutes)</th>\n",
       "      <th>LeadActor</th>\n",
       "      <th>LeadActress</th>\n",
       "      <th>ProductionCompany</th>\n",
       "    </tr>\n",
       "  </thead>\n",
       "  <tbody>\n",
       "    <tr>\n",
       "      <th>0</th>\n",
       "      <td>MOV004</td>\n",
       "      <td>Baahubali 2: The Conclusion</td>\n",
       "      <td>S. S. Rajamouli</td>\n",
       "      <td>Epic Fantasy Action</td>\n",
       "      <td>NaN</td>\n",
       "      <td>250</td>\n",
       "      <td>1810</td>\n",
       "      <td>8.2</td>\n",
       "      <td>171.0</td>\n",
       "      <td>Prabhas</td>\n",
       "      <td>Anushka Shetty</td>\n",
       "      <td>Arka Media Works</td>\n",
       "    </tr>\n",
       "    <tr>\n",
       "      <th>6</th>\n",
       "      <td>MOV034</td>\n",
       "      <td>Sarileru Neekevvaru</td>\n",
       "      <td>Anil Ravipudi</td>\n",
       "      <td>Action Comedy</td>\n",
       "      <td>NaN</td>\n",
       "      <td>75</td>\n",
       "      <td>260</td>\n",
       "      <td>7.1</td>\n",
       "      <td>169.0</td>\n",
       "      <td>Mahesh Babu</td>\n",
       "      <td>Rashmika Mandanna</td>\n",
       "      <td>AK Entertainments</td>\n",
       "    </tr>\n",
       "  </tbody>\n",
       "</table>\n",
       "</div>"
      ],
      "text/plain": [
       "  MovieID                        Title         Director                Genre  \\\n",
       "0  MOV004  Baahubali 2: The Conclusion  S. S. Rajamouli  Epic Fantasy Action   \n",
       "6  MOV034          Sarileru Neekevvaru    Anil Ravipudi        Action Comedy   \n",
       "\n",
       "   ReleaseYear  Budget (Crores)  BoxOffice (Crores)  Rating  \\\n",
       "0          NaN              250                1810     8.2   \n",
       "6          NaN               75                 260     7.1   \n",
       "\n",
       "   Duration (minutes)    LeadActor        LeadActress  ProductionCompany  \n",
       "0               171.0      Prabhas     Anushka Shetty   Arka Media Works  \n",
       "6               169.0  Mahesh Babu  Rashmika Mandanna  AK Entertainments  "
      ]
     },
     "execution_count": 35,
     "metadata": {},
     "output_type": "execute_result"
    }
   ],
   "source": [
    "df3[df3['ReleaseYear'].isna()]"
   ]
  },
  {
   "cell_type": "code",
   "execution_count": 36,
   "id": "2c1d4d49-f3f8-428d-8789-a8488ca971f1",
   "metadata": {},
   "outputs": [],
   "source": [
    "# Filling the respective rows with accurate release year\n",
    "df3.loc[0, 'ReleaseYear'] = 2017\n",
    "df3.loc[6, 'ReleaseYear'] = 2020"
   ]
  },
  {
   "cell_type": "code",
   "execution_count": 37,
   "id": "44a18052-23f1-4a98-b875-72135b1173e0",
   "metadata": {},
   "outputs": [],
   "source": [
    "# Considering mean for filling null values of Rating\n",
    "df3['Rating'] = df3['Rating'].fillna(df3['Rating'].mean())"
   ]
  },
  {
   "cell_type": "code",
   "execution_count": 38,
   "id": "3d85263a-7daf-4d1f-8783-b4600ba63866",
   "metadata": {},
   "outputs": [],
   "source": [
    "# Dilled with mean\n",
    "df3['Duration (minutes)'] = df3['Duration (minutes)'].fillna(df3['Duration (minutes)'].mean())"
   ]
  },
  {
   "cell_type": "code",
   "execution_count": 39,
   "id": "e8f9261b-ec10-4b23-897b-23d8b0dfd627",
   "metadata": {},
   "outputs": [
    {
     "data": {
      "text/plain": [
       "0               Arka Media Works\n",
       "1                            NaN\n",
       "2    Konidela Production Company\n",
       "3         Sithara Entertainments\n",
       "4                   GA2 Pictures\n",
       "5            Mythri Movie Makers\n",
       "6              AK Entertainments\n",
       "7         Sithara Entertainments\n",
       "8               Arka Media Works\n",
       "9               Arka Media Works\n",
       "Name: ProductionCompany, dtype: object"
      ]
     },
     "execution_count": 39,
     "metadata": {},
     "output_type": "execute_result"
    }
   ],
   "source": [
    "df3['ProductionCompany']"
   ]
  },
  {
   "cell_type": "code",
   "execution_count": 40,
   "id": "916cbde0-734c-4041-b0ad-5631fff55036",
   "metadata": {},
   "outputs": [],
   "source": [
    "# filled with specific values that i found out for bahubali the beginning\n",
    "df3.loc[1 , 'ProductionCompany'] = 'Arka Media Works'"
   ]
  },
  {
   "cell_type": "code",
   "execution_count": 41,
   "id": "9122deb6-5493-4fd9-9651-dc3c3affdc9f",
   "metadata": {},
   "outputs": [],
   "source": [
    "# i have to convert ['Release Year' and 'Duration'] to int\n",
    "# 'budget', boxoffice' to foat\n",
    "df3[cols] = df3[cols].astype(int)\n",
    "cols2 = ['Budget (Crores)','BoxOffice (Crores)'] \n",
    "df3[cols2] = df3[cols2].astype(float) "
   ]
  },
  {
   "cell_type": "code",
   "execution_count": 42,
   "id": "e4ede78d-97a0-4de6-8d1e-8f83dce78fa0",
   "metadata": {},
   "outputs": [],
   "source": [
    "# To remove duplicates\n",
    "df3 = df3.drop_duplicates(subset=['LeadActor', 'ReleaseYear', 'Director'])"
   ]
  },
  {
   "cell_type": "code",
   "execution_count": 43,
   "id": "4600c47e-0cda-4018-b0a1-01d8ce50dd8f",
   "metadata": {},
   "outputs": [],
   "source": [
    "# downloading cleaned file\n",
    "df3.to_csv(\"cleaned_tollywood_movies.csv\", index=False)"
   ]
  }
 ],
 "metadata": {
  "kernelspec": {
   "display_name": "Python 3 (ipykernel)",
   "language": "python",
   "name": "python3"
  },
  "language_info": {
   "codemirror_mode": {
    "name": "ipython",
    "version": 3
   },
   "file_extension": ".py",
   "mimetype": "text/x-python",
   "name": "python",
   "nbconvert_exporter": "python",
   "pygments_lexer": "ipython3",
   "version": "3.10.12"
  }
 },
 "nbformat": 4,
 "nbformat_minor": 5
}
