{
 "cells": [
  {
   "cell_type": "code",
   "execution_count": 52,
   "id": "78bb7e04-af75-49b3-9df6-3149cea88f3b",
   "metadata": {},
   "outputs": [],
   "source": [
    "import pandas as pd\n",
    "import matplotlib.pyplot as plt"
   ]
  },
  {
   "cell_type": "code",
   "execution_count": 53,
   "id": "28f2adfc-1fb6-4833-b70f-32086813cd18",
   "metadata": {},
   "outputs": [],
   "source": [
    "# I am reading all the clean files for analysis\n",
    "df_hindi = pd.read_csv('cleaned_movies_data/cleaned_bollywood_movies.csv')\n",
    "df_telugu = pd.read_csv('cleaned_movies_data/cleaned_tollywood_movies.csv')\n",
    "df_indian = pd.read_csv('cleaned_movies_data/cleaned_indian_movies.csv')"
   ]
  },
  {
   "cell_type": "code",
   "execution_count": 54,
   "id": "41ce2c05-21d7-478c-acfb-ab3a427c61ac",
   "metadata": {},
   "outputs": [],
   "source": [
    "# I am creating a new column called ROI where profit = boxoffice - budget , this is then divided by budget \n",
    "df_hindi['ROI'] = (df_hindi['BoxOffice (Crores)'] - df_hindi['Budget (Crores)']) / df_hindi['Budget (Crores)']\n",
    "df_telugu['ROI'] = (df_telugu['BoxOffice (Crores)'] - df_telugu['Budget (Crores)']) / df_telugu['Budget (Crores)']\n",
    "df_indian['ROI'] = (df_indian['BoxOffice (Crores)'] - df_indian['Budget (Crores)']) / df_indian['Budget (Crores)']"
   ]
  },
  {
   "cell_type": "code",
   "execution_count": 55,
   "id": "e4450ff4-0dfd-442e-a9d9-23cec40c947d",
   "metadata": {},
   "outputs": [],
   "source": [
    "# I rounded the figure to two spaces for making it look more clean\n",
    "df_hindi['ROI'] = round(df_hindi['ROI'],2)\n",
    "df_telugu['ROI'] = round(df_telugu['ROI'],2)\n",
    "df_indian['ROI'] = round(df_indian['ROI'],2)"
   ]
  },
  {
   "cell_type": "code",
   "execution_count": 56,
   "id": "da8f4585-6cf3-4cc9-8ba7-953040938fa3",
   "metadata": {},
   "outputs": [
    {
     "data": {
      "text/html": [
       "<div>\n",
       "<style scoped>\n",
       "    .dataframe tbody tr th:only-of-type {\n",
       "        vertical-align: middle;\n",
       "    }\n",
       "\n",
       "    .dataframe tbody tr th {\n",
       "        vertical-align: top;\n",
       "    }\n",
       "\n",
       "    .dataframe thead th {\n",
       "        text-align: right;\n",
       "    }\n",
       "</style>\n",
       "<table border=\"1\" class=\"dataframe\">\n",
       "  <thead>\n",
       "    <tr style=\"text-align: right;\">\n",
       "      <th></th>\n",
       "      <th>MovieID</th>\n",
       "      <th>Title</th>\n",
       "      <th>Director</th>\n",
       "      <th>Genre</th>\n",
       "      <th>ReleaseYear</th>\n",
       "      <th>Budget (Crores)</th>\n",
       "      <th>BoxOffice (Crores)</th>\n",
       "      <th>Rating</th>\n",
       "      <th>Duration (minutes)</th>\n",
       "      <th>LeadActor</th>\n",
       "      <th>LeadActress</th>\n",
       "      <th>Language</th>\n",
       "      <th>ProductionCompany</th>\n",
       "      <th>ROI</th>\n",
       "    </tr>\n",
       "  </thead>\n",
       "  <tbody>\n",
       "    <tr>\n",
       "      <th>6</th>\n",
       "      <td>MOV007</td>\n",
       "      <td>Dangal</td>\n",
       "      <td>Nitesh Tiwari</td>\n",
       "      <td>Biographical Sports Drama</td>\n",
       "      <td>2016</td>\n",
       "      <td>70.0</td>\n",
       "      <td>2140.0</td>\n",
       "      <td>8.1</td>\n",
       "      <td>161</td>\n",
       "      <td>Aamir Khan</td>\n",
       "      <td>Fatima Sana Shaikh</td>\n",
       "      <td>Hindi</td>\n",
       "      <td>Aamir Khan Productions</td>\n",
       "      <td>29.57</td>\n",
       "    </tr>\n",
       "    <tr>\n",
       "      <th>41</th>\n",
       "      <td>MOV045</td>\n",
       "      <td>3 Idiots</td>\n",
       "      <td>Rajkumar Hirani</td>\n",
       "      <td>Comedy Drama</td>\n",
       "      <td>2009</td>\n",
       "      <td>35.0</td>\n",
       "      <td>460.0</td>\n",
       "      <td>8.4</td>\n",
       "      <td>171</td>\n",
       "      <td>Aamir Khan</td>\n",
       "      <td>Kareena Kapoor</td>\n",
       "      <td>Hindi</td>\n",
       "      <td>Vidhu Vinod Chopra Productions</td>\n",
       "      <td>12.14</td>\n",
       "    </tr>\n",
       "    <tr>\n",
       "      <th>50</th>\n",
       "      <td>MOV055</td>\n",
       "      <td>Badhaai Ho</td>\n",
       "      <td>Amit Ravindernath Sharma</td>\n",
       "      <td>Comedy Drama</td>\n",
       "      <td>2018</td>\n",
       "      <td>22.0</td>\n",
       "      <td>221.0</td>\n",
       "      <td>7.9</td>\n",
       "      <td>124</td>\n",
       "      <td>Ayushmann Khurrana</td>\n",
       "      <td>Sanya Malhotra</td>\n",
       "      <td>Hindi</td>\n",
       "      <td>Junglee Pictures</td>\n",
       "      <td>9.05</td>\n",
       "    </tr>\n",
       "  </tbody>\n",
       "</table>\n",
       "</div>"
      ],
      "text/plain": [
       "   MovieID       Title                  Director                      Genre  \\\n",
       "6   MOV007      Dangal             Nitesh Tiwari  Biographical Sports Drama   \n",
       "41  MOV045    3 Idiots           Rajkumar Hirani               Comedy Drama   \n",
       "50  MOV055  Badhaai Ho  Amit Ravindernath Sharma               Comedy Drama   \n",
       "\n",
       "    ReleaseYear  Budget (Crores)  BoxOffice (Crores)  Rating  \\\n",
       "6          2016             70.0              2140.0     8.1   \n",
       "41         2009             35.0               460.0     8.4   \n",
       "50         2018             22.0               221.0     7.9   \n",
       "\n",
       "    Duration (minutes)           LeadActor         LeadActress Language  \\\n",
       "6                  161          Aamir Khan  Fatima Sana Shaikh    Hindi   \n",
       "41                 171          Aamir Khan      Kareena Kapoor    Hindi   \n",
       "50                 124  Ayushmann Khurrana      Sanya Malhotra    Hindi   \n",
       "\n",
       "                 ProductionCompany    ROI  \n",
       "6           Aamir Khan Productions  29.57  \n",
       "41  Vidhu Vinod Chopra Productions  12.14  \n",
       "50               Junglee Pictures    9.05  "
      ]
     },
     "execution_count": 56,
     "metadata": {},
     "output_type": "execute_result"
    }
   ],
   "source": [
    "# Finding top 3 Hindi films(ROI wise) uisng filters of only choosing where language is hindi and then sorting and finally choosing top_3\n",
    "top_3_hindi = df_hindi[df_hindi['Language'] == 'Hindi'].sort_values('ROI', ascending=False).head(3)\n",
    "top_3_hindi"
   ]
  },
  {
   "cell_type": "code",
   "execution_count": 57,
   "id": "0df16494-3dc1-486a-b7ec-9eba99eca704",
   "metadata": {},
   "outputs": [
    {
     "data": {
      "text/html": [
       "<div>\n",
       "<style scoped>\n",
       "    .dataframe tbody tr th:only-of-type {\n",
       "        vertical-align: middle;\n",
       "    }\n",
       "\n",
       "    .dataframe tbody tr th {\n",
       "        vertical-align: top;\n",
       "    }\n",
       "\n",
       "    .dataframe thead th {\n",
       "        text-align: right;\n",
       "    }\n",
       "</style>\n",
       "<table border=\"1\" class=\"dataframe\">\n",
       "  <thead>\n",
       "    <tr style=\"text-align: right;\">\n",
       "      <th></th>\n",
       "      <th>MovieID</th>\n",
       "      <th>Title</th>\n",
       "      <th>Director</th>\n",
       "      <th>Genre</th>\n",
       "      <th>ReleaseYear</th>\n",
       "      <th>Budget (Crores)</th>\n",
       "      <th>BoxOffice (Crores)</th>\n",
       "      <th>Rating</th>\n",
       "      <th>Duration (minutes)</th>\n",
       "      <th>LeadActor</th>\n",
       "      <th>LeadActress</th>\n",
       "      <th>ProductionCompany</th>\n",
       "      <th>ROI</th>\n",
       "    </tr>\n",
       "  </thead>\n",
       "  <tbody>\n",
       "    <tr>\n",
       "      <th>4</th>\n",
       "      <td>MOV027</td>\n",
       "      <td>Geetha Govindam</td>\n",
       "      <td>Parasuram</td>\n",
       "      <td>Romantic Comedy</td>\n",
       "      <td>2018</td>\n",
       "      <td>10.0</td>\n",
       "      <td>130.0</td>\n",
       "      <td>7.677778</td>\n",
       "      <td>148</td>\n",
       "      <td>Vijay Deverakonda</td>\n",
       "      <td>Rashmika Mandanna</td>\n",
       "      <td>GA2 Pictures</td>\n",
       "      <td>12.00</td>\n",
       "    </tr>\n",
       "    <tr>\n",
       "      <th>0</th>\n",
       "      <td>MOV004</td>\n",
       "      <td>Baahubali 2: The Conclusion</td>\n",
       "      <td>S. S. Rajamouli</td>\n",
       "      <td>Epic Fantasy Action</td>\n",
       "      <td>2017</td>\n",
       "      <td>250.0</td>\n",
       "      <td>1810.0</td>\n",
       "      <td>8.200000</td>\n",
       "      <td>171</td>\n",
       "      <td>Prabhas</td>\n",
       "      <td>Anushka Shetty</td>\n",
       "      <td>Arka Media Works</td>\n",
       "      <td>6.24</td>\n",
       "    </tr>\n",
       "    <tr>\n",
       "      <th>1</th>\n",
       "      <td>MOV021</td>\n",
       "      <td>Bahubali: The Beginning</td>\n",
       "      <td>S. S. Rajamouli</td>\n",
       "      <td>Epic Fantasy Action</td>\n",
       "      <td>2015</td>\n",
       "      <td>180.0</td>\n",
       "      <td>650.0</td>\n",
       "      <td>8.100000</td>\n",
       "      <td>159</td>\n",
       "      <td>Prabhas</td>\n",
       "      <td>Tamannaah</td>\n",
       "      <td>Arka Media Works</td>\n",
       "      <td>2.61</td>\n",
       "    </tr>\n",
       "  </tbody>\n",
       "</table>\n",
       "</div>"
      ],
      "text/plain": [
       "  MovieID                        Title         Director                Genre  \\\n",
       "4  MOV027              Geetha Govindam        Parasuram      Romantic Comedy   \n",
       "0  MOV004  Baahubali 2: The Conclusion  S. S. Rajamouli  Epic Fantasy Action   \n",
       "1  MOV021      Bahubali: The Beginning  S. S. Rajamouli  Epic Fantasy Action   \n",
       "\n",
       "   ReleaseYear  Budget (Crores)  BoxOffice (Crores)    Rating  \\\n",
       "4         2018             10.0               130.0  7.677778   \n",
       "0         2017            250.0              1810.0  8.200000   \n",
       "1         2015            180.0               650.0  8.100000   \n",
       "\n",
       "   Duration (minutes)          LeadActor        LeadActress ProductionCompany  \\\n",
       "4                 148  Vijay Deverakonda  Rashmika Mandanna      GA2 Pictures   \n",
       "0                 171            Prabhas     Anushka Shetty  Arka Media Works   \n",
       "1                 159            Prabhas          Tamannaah  Arka Media Works   \n",
       "\n",
       "     ROI  \n",
       "4  12.00  \n",
       "0   6.24  \n",
       "1   2.61  "
      ]
     },
     "execution_count": 57,
     "metadata": {},
     "output_type": "execute_result"
    }
   ],
   "source": [
    "# Finding top 3 Telugu films(ROI wise) by sorting and finally choosing top_3\n",
    "top_3_telugu = df_telugu.sort_values('ROI', ascending=False).head(3)\n",
    "top_3_telugu"
   ]
  },
  {
   "cell_type": "code",
   "execution_count": 58,
   "id": "229b36f3-a4bd-4faa-9032-64da43de96a1",
   "metadata": {},
   "outputs": [],
   "source": [
    "# Made a dataframe wich merges all 3 dfs to find top 3 across all languages\n",
    "df_all = pd.concat([df_hindi, df_telugu, df_indian], ignore_index = True)"
   ]
  },
  {
   "cell_type": "code",
   "execution_count": 59,
   "id": "45fe47bd-5564-4452-8483-058f5ff9f432",
   "metadata": {},
   "outputs": [
    {
     "data": {
      "text/html": [
       "<div>\n",
       "<style scoped>\n",
       "    .dataframe tbody tr th:only-of-type {\n",
       "        vertical-align: middle;\n",
       "    }\n",
       "\n",
       "    .dataframe tbody tr th {\n",
       "        vertical-align: top;\n",
       "    }\n",
       "\n",
       "    .dataframe thead th {\n",
       "        text-align: right;\n",
       "    }\n",
       "</style>\n",
       "<table border=\"1\" class=\"dataframe\">\n",
       "  <thead>\n",
       "    <tr style=\"text-align: right;\">\n",
       "      <th></th>\n",
       "      <th>MovieID</th>\n",
       "      <th>Title</th>\n",
       "      <th>Director</th>\n",
       "      <th>Genre</th>\n",
       "      <th>ReleaseYear</th>\n",
       "      <th>Budget (Crores)</th>\n",
       "      <th>BoxOffice (Crores)</th>\n",
       "      <th>Rating</th>\n",
       "      <th>Duration (minutes)</th>\n",
       "      <th>LeadActor</th>\n",
       "      <th>LeadActress</th>\n",
       "      <th>Language</th>\n",
       "      <th>ProductionCompany</th>\n",
       "      <th>ROI</th>\n",
       "    </tr>\n",
       "  </thead>\n",
       "  <tbody>\n",
       "    <tr>\n",
       "      <th>6</th>\n",
       "      <td>MOV007</td>\n",
       "      <td>Dangal</td>\n",
       "      <td>Nitesh Tiwari</td>\n",
       "      <td>Biographical Sports Drama</td>\n",
       "      <td>2016</td>\n",
       "      <td>70.0</td>\n",
       "      <td>2140.0</td>\n",
       "      <td>8.1</td>\n",
       "      <td>161</td>\n",
       "      <td>Aamir Khan</td>\n",
       "      <td>Fatima Sana Shaikh</td>\n",
       "      <td>Hindi</td>\n",
       "      <td>Aamir Khan Productions</td>\n",
       "      <td>29.57</td>\n",
       "    </tr>\n",
       "    <tr>\n",
       "      <th>41</th>\n",
       "      <td>MOV045</td>\n",
       "      <td>3 Idiots</td>\n",
       "      <td>Rajkumar Hirani</td>\n",
       "      <td>Comedy Drama</td>\n",
       "      <td>2009</td>\n",
       "      <td>35.0</td>\n",
       "      <td>460.0</td>\n",
       "      <td>8.4</td>\n",
       "      <td>171</td>\n",
       "      <td>Aamir Khan</td>\n",
       "      <td>Kareena Kapoor</td>\n",
       "      <td>Hindi</td>\n",
       "      <td>Vidhu Vinod Chopra Productions</td>\n",
       "      <td>12.14</td>\n",
       "    </tr>\n",
       "    <tr>\n",
       "      <th>26</th>\n",
       "      <td>MOV027</td>\n",
       "      <td>Geetha Govindam</td>\n",
       "      <td>Parasuram</td>\n",
       "      <td>Romantic Comedy</td>\n",
       "      <td>2018</td>\n",
       "      <td>10.0</td>\n",
       "      <td>130.0</td>\n",
       "      <td>7.4</td>\n",
       "      <td>148</td>\n",
       "      <td>Vijay Deverakonda</td>\n",
       "      <td>Rashmika Mandanna</td>\n",
       "      <td>Telugu</td>\n",
       "      <td>GA2 Pictures</td>\n",
       "      <td>12.00</td>\n",
       "    </tr>\n",
       "  </tbody>\n",
       "</table>\n",
       "</div>"
      ],
      "text/plain": [
       "   MovieID            Title         Director                      Genre  \\\n",
       "6   MOV007           Dangal    Nitesh Tiwari  Biographical Sports Drama   \n",
       "41  MOV045         3 Idiots  Rajkumar Hirani               Comedy Drama   \n",
       "26  MOV027  Geetha Govindam        Parasuram            Romantic Comedy   \n",
       "\n",
       "    ReleaseYear  Budget (Crores)  BoxOffice (Crores)  Rating  \\\n",
       "6          2016             70.0              2140.0     8.1   \n",
       "41         2009             35.0               460.0     8.4   \n",
       "26         2018             10.0               130.0     7.4   \n",
       "\n",
       "    Duration (minutes)          LeadActor         LeadActress Language  \\\n",
       "6                  161         Aamir Khan  Fatima Sana Shaikh    Hindi   \n",
       "41                 171         Aamir Khan      Kareena Kapoor    Hindi   \n",
       "26                 148  Vijay Deverakonda   Rashmika Mandanna   Telugu   \n",
       "\n",
       "                 ProductionCompany    ROI  \n",
       "6           Aamir Khan Productions  29.57  \n",
       "41  Vidhu Vinod Chopra Productions  12.14  \n",
       "26                    GA2 Pictures  12.00  "
      ]
     },
     "execution_count": 59,
     "metadata": {},
     "output_type": "execute_result"
    }
   ],
   "source": [
    "# Sorting and choosing top 3 of all languages df\n",
    "top_3_all = df_all.sort_values('ROI', ascending=False).head(3)\n",
    "top_3_all"
   ]
  },
  {
   "cell_type": "code",
   "execution_count": 66,
   "id": "4bd9a46a-cffb-4fd5-b0ad-d121b7de32b3",
   "metadata": {},
   "outputs": [
    {
     "data": {
      "text/plain": [
       "<Axes: title={'center': 'ROI for top 3 Hindi films'}, xlabel='Title'>"
      ]
     },
     "execution_count": 66,
     "metadata": {},
     "output_type": "execute_result"
    },
    {
     "data": {
      "image/png": "[encoded data removed]",
      "text/plain": [
       "<Figure size 640x480 with 1 Axes>"
      ]
     },
     "metadata": {},
     "output_type": "display_data"
    }
   ],
   "source": [
    "# Plotting a line graph of ROI against respective movies\n",
    "top_3_hindi.plot(x='Title', y=['ROI'], kind='line', title = 'ROI for top 3 Hindi films')"
   ]
  },
  {
   "cell_type": "code",
   "execution_count": 67,
   "id": "48addf87-ad2e-4a7b-8c61-b7b98702f0a7",
   "metadata": {},
   "outputs": [
    {
     "data": {
      "text/plain": [
       "<Axes: title={'center': 'ROI for top 3 Telugu films'}, xlabel='Title'>"
      ]
     },
     "execution_count": 67,
     "metadata": {},
     "output_type": "execute_result"
    },
    {
     "data": {
      "image/png": "[encoded data removed]",
      "text/plain": [
       "<Figure size 640x480 with 1 Axes>"
      ]
     },
     "metadata": {},
     "output_type": "display_data"
    }
   ],
   "source": [
    "# Plotting a line graph of ROI against respective movies\n",
    "top_3_telugu.plot(x='Title', y=['ROI'], kind='line', title = 'ROI for top 3 Telugu films')"
   ]
  },
  {
   "cell_type": "code",
   "execution_count": 68,
   "id": "8d0518e0-b03a-40b4-9c74-8b8be6951b09",
   "metadata": {},
   "outputs": [
    {
     "data": {
      "text/plain": [
       "<Axes: title={'center': 'ROI for top 3 films'}, xlabel='Title'>"
      ]
     },
     "execution_count": 68,
     "metadata": {},
     "output_type": "execute_result"
    },
    {
     "data": {
      "image/png": "[encoded data removed]",
      "text/plain": [
       "<Figure size 640x480 with 1 Axes>"
      ]
     },
     "metadata": {},
     "output_type": "display_data"
    }
   ],
   "source": [
    "# Plotting a line graph of ROI against respective movies\n",
    "top_3_all.plot(x='Title', y=['ROI'], kind='line',  title = 'ROI for top 3 films')"
   ]
  },
  {
   "cell_type": "code",
   "execution_count": null,
   "id": "bb79f4d8-c2ce-47ba-82b9-c8cc7485539a",
   "metadata": {},
   "outputs": [],
   "source": []
  }
 ],
 "metadata": {
  "kernelspec": {
   "display_name": "Python 3 (ipykernel)",
   "language": "python",
   "name": "python3"
  },
  "language_info": {
   "codemirror_mode": {
    "name": "ipython",
    "version": 3
   },
   "file_extension": ".py",
   "mimetype": "text/x-python",
   "name": "python",
   "nbconvert_exporter": "python",
   "pygments_lexer": "ipython3",
   "version": "3.10.12"
  }
 },
 "nbformat": 4,
 "nbformat_minor": 5
}
